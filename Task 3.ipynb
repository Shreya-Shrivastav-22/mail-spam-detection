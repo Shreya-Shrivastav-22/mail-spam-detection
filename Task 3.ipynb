{
 "cells": [
  {
   "cell_type": "code",
   "execution_count": 5,
   "id": "8525eb2a-4e06-4dd0-9833-8b501b2e42cf",
   "metadata": {},
   "outputs": [],
   "source": [
    "# fetching data set from kaggle\n",
    "\n",
    "import pandas as pd\n",
    "import numpy as np\n",
    "from sklearn.feature_extraction.text import TfidfVectorizer\n",
    "from wordcloud import STOPWORDS\n",
    "import re\n",
    "import string\n",
    "df = pd.read_csv('./spamhamdata.csv',delimiter='\\t') # tabs seperated values"
   ]
  },
  {
   "cell_type": "code",
   "execution_count": 6,
   "id": "b9789c59-c510-45e5-958c-ca3469878f82",
   "metadata": {},
   "outputs": [],
   "source": [
    "def clean(text):\n",
    "    text = str(text).lower()\n",
    "    text = re.sub(\"\\[.*?\\]\",' ',text)\n",
    "    text = re.sub('https?://\\S+|www\\.\\S+','',text)\n",
    "    text = re.sub('<.*?>+','', text)\n",
    "    text = re.sub(\"[%s]\" % string.punctuation, '', text)\n",
    "    text = re.sub('\\w*\\d\\w*','',text)\n",
    "    text = \" \".join(i for i in text.split() if i not in STOPWORDS)\n",
    "    return text"
   ]
  },
  {
   "cell_type": "code",
   "execution_count": 7,
   "id": "ebddada1-5a62-47dd-855f-47b55d0c5f45",
   "metadata": {},
   "outputs": [],
   "source": [
    "df['Text'] = df['Text'].apply(clean)"
   ]
  },
  {
   "cell_type": "code",
   "execution_count": 8,
   "id": "e8747870-ff20-42f7-bf16-755784537b71",
   "metadata": {},
   "outputs": [],
   "source": [
    "tf_idf = TfidfVectorizer()"
   ]
  },
  {
   "cell_type": "code",
   "execution_count": 9,
   "id": "b3e8e4a7-6b70-4655-9820-3185a88dbe9f",
   "metadata": {},
   "outputs": [],
   "source": [
    "text_matrix = tf_idf.fit_transform(df['Text'])"
   ]
  },
  {
   "cell_type": "code",
   "execution_count": 10,
   "id": "3dd42d60-8daf-4947-b0db-8452f2201e31",
   "metadata": {},
   "outputs": [],
   "source": [
    "df['Spam'] = df['Spam'].map({'ham':0,'spam':1})"
   ]
  },
  {
   "cell_type": "code",
   "execution_count": 11,
   "id": "d5645ac8-5d75-4f6c-a11c-ccb39412cfd9",
   "metadata": {},
   "outputs": [],
   "source": [
    "y = df['Spam']"
   ]
  },
  {
   "cell_type": "code",
   "execution_count": 12,
   "id": "fe824735-5815-4dd7-b6b0-ee45af41e2eb",
   "metadata": {},
   "outputs": [
    {
     "name": "stdout",
     "output_type": "stream",
     "text": [
      "The accuracy of this model is: 0.8726457399103139\n"
     ]
    }
   ],
   "source": [
    "from sklearn.naive_bayes import GaussianNB\n",
    "from sklearn.model_selection import train_test_split\n",
    "\n",
    "\n",
    "xtrain, xtest, ytrain, ytest = train_test_split(text_matrix.toarray(), y,test_size=0.2)\n",
    "model = GaussianNB()\n",
    "model.fit(xtrain, ytrain)\n",
    "print(\"The accuracy of this model is: {}\".format(model.score(xtest, ytest)))"
   ]
  },
  {
   "cell_type": "code",
   "execution_count": 13,
   "id": "3030bca8-d1d8-4afc-9d18-d9a839bee3af",
   "metadata": {},
   "outputs": [
    {
     "name": "stdout",
     "output_type": "stream",
     "text": [
      "              precision    recall  f1-score   support\n",
      "\n",
      "           0       0.98      0.87      0.92       971\n",
      "           1       0.50      0.89      0.64       144\n",
      "\n",
      "    accuracy                           0.87      1115\n",
      "   macro avg       0.74      0.88      0.78      1115\n",
      "weighted avg       0.92      0.87      0.89      1115\n",
      "\n"
     ]
    }
   ],
   "source": [
    "from sklearn.metrics._classification import classification_report\n",
    "\n",
    "print(classification_report(ytest, model.predict(xtest)))"
   ]
  },
  {
   "cell_type": "code",
   "execution_count": 14,
   "id": "3ff28d03-bb66-47f3-854a-fe742d318979",
   "metadata": {},
   "outputs": [],
   "source": [
    "def main():\n",
    "    inp = input(\"Enter the message: \")\n",
    "    inp = clean(inp)\n",
    "    transformed = tf_idf.transform([inp]).toarray()\n",
    "    ans = model.predict(transformed)\n",
    "    map = {0: \"ham\", 1: \"spam\"}\n",
    "    print(\"The message is: '{}'\".format(map[ans[0]]))"
   ]
  },
  {
   "cell_type": "code",
   "execution_count": 15,
   "id": "589cd055-6d21-4f37-ae50-b23fdfc7ace6",
   "metadata": {},
   "outputs": [
    {
     "name": "stdout",
     "output_type": "stream",
     "text": [
      "Enter the message: *Join Above all links to stay updated.**  Internship will commence  on 12th April 2024.  Key Guidelines & Dates-  1) LinkedIn Sharing: Update your profile, mention @Coding Samurai, and use #CodingSamurai to showcase achievements.  2) Originality Priority: Avoid plagiarism. Copied work leads to termination and blocks future opportunities.  3) Display Progress: Share task videos on LinkedIn, tag @coding samurai, use #CodingSamurai, and provide task insights.  4) Tech Interns' GitHub/ Behance Dribble for designers: Set up \"CODINGSAMURAI\" repository. Share link in upcoming task submission email.\n",
      "The message is: 'ham'\n"
     ]
    }
   ],
   "source": [
    "main()"
   ]
  }
 ],
 "metadata": {
  "kernelspec": {
   "display_name": "Python 3 (ipykernel)",
   "language": "python",
   "name": "python3"
  },
  "language_info": {
   "codemirror_mode": {
    "name": "ipython",
    "version": 3
   },
   "file_extension": ".py",
   "mimetype": "text/x-python",
   "name": "python",
   "nbconvert_exporter": "python",
   "pygments_lexer": "ipython3",
   "version": "3.9.12"
  }
 },
 "nbformat": 4,
 "nbformat_minor": 5
}
